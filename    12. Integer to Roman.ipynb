{
 "cells": [
  {
   "cell_type": "markdown",
   "metadata": {},
   "source": [
    "## 12. Integer to Roman\n",
    "https://leetcode.com/problems/integer-to-roman/#/discuss"
   ]
  },
  {
   "cell_type": "code",
   "execution_count": 71,
   "metadata": {},
   "outputs": [],
   "source": [
    "class Solution(object):\n",
    "    def intToRoman(self, num):\n",
    "        \"\"\"\n",
    "        :type num: int\n",
    "        :rtype: str\n",
    "        \"\"\"\n",
    "\n",
    "        ans = ''\n",
    "        ## Create a dictionary for all roman numeral\n",
    "        roman = ['M','D','C','L','X','V','I']\n",
    "        number = [1000,500,100,50,10,5,1,0]\n",
    "        \n",
    "        for i in range(len(roman)):\n",
    "            while num>= number[i]:\n",
    "                if str(num)[0] =='4':\n",
    "                    num = num - number[i-1] + number[i]\n",
    "                    ans = ans + roman[i] + roman[i-1]\n",
    "                elif str(num)[0] =='9':\n",
    "                    num = num - number[i-1] + number[i+1] ##think of the case \"9\", \n",
    "                                                          ##you express 9 as 10 - 1 IX, thus [i-1][i+1]\n",
    "                    ans = ans + roman[i+1] + roman[i-1] \n",
    "                else:\n",
    "                    num = num - number[i]\n",
    "                    ans = ans + roman[i]\n",
    "                    \n",
    "            i = i + 1\n",
    "        return ans\n",
    "            \n",
    "        \n",
    "        \n"
   ]
  },
  {
   "cell_type": "code",
   "execution_count": 72,
   "metadata": {
    "collapsed": true
   },
   "outputs": [],
   "source": [
    "trial = Solution()\n"
   ]
  },
  {
   "cell_type": "code",
   "execution_count": 67,
   "metadata": {
    "collapsed": true
   },
   "outputs": [],
   "source": [
    "test=[0,1,2,3,4,5,9,19,39,49,41]"
   ]
  },
  {
   "cell_type": "code",
   "execution_count": 75,
   "metadata": {},
   "outputs": [
    {
     "name": "stdout",
     "output_type": "stream",
     "text": [
      "My anwser \n",
      "Target 0\n",
      "--------------------\n",
      "My anwser I\n",
      "Target 1\n",
      "--------------------\n",
      "My anwser II\n",
      "Target 2\n",
      "--------------------\n",
      "My anwser III\n",
      "Target 3\n",
      "--------------------\n",
      "My anwser IV\n",
      "Target 4\n",
      "--------------------\n",
      "My anwser V\n",
      "Target 5\n",
      "--------------------\n",
      "My anwser IX\n",
      "Target 9\n",
      "--------------------\n",
      "My anwser XIX\n",
      "Target 19\n",
      "--------------------\n",
      "My anwser XXXIX\n",
      "Target 39\n",
      "--------------------\n",
      "My anwser XLIX\n",
      "Target 49\n",
      "--------------------\n",
      "My anwser XLI\n",
      "Target 41\n",
      "--------------------\n"
     ]
    }
   ],
   "source": [
    "for testcase in test:\n",
    "    trial = Solution()\n",
    "    print('My anwser',trial.intToRoman(testcase))\n",
    "    print('Target', testcase)\n",
    "    print('-'* 20)"
   ]
  },
  {
   "cell_type": "code",
   "execution_count": null,
   "metadata": {
    "collapsed": true
   },
   "outputs": [],
   "source": []
  },
  {
   "cell_type": "code",
   "execution_count": null,
   "metadata": {
    "collapsed": true
   },
   "outputs": [],
   "source": []
  }
 ],
 "metadata": {
  "kernelspec": {
   "display_name": "Python 3",
   "language": "python",
   "name": "python3"
  },
  "language_info": {
   "codemirror_mode": {
    "name": "ipython",
    "version": 3
   },
   "file_extension": ".py",
   "mimetype": "text/x-python",
   "name": "python",
   "nbconvert_exporter": "python",
   "pygments_lexer": "ipython3",
   "version": "3.5.0"
  }
 },
 "nbformat": 4,
 "nbformat_minor": 2
}
