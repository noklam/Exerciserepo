{
 "cells": [
  {
   "cell_type": "markdown",
   "metadata": {},
   "source": [
    "## 11. Container With Most Water\n",
    "https://leetcode.com/problems/container-with-most-water/#/description"
   ]
  },
  {
   "cell_type": "markdown",
   "metadata": {},
   "source": [
    "Given n non-negative integers a1, a2, ..., an, where each represents a point at coordinate (i, ai). n vertical lines are drawn such that the two endpoints of line i is at (i, ai) and (i, 0). Find two lines, which together with x-axis forms a container, such that the container contains the most water.\n",
    "\n",
    "Note: You may not slant the container and n is at least 2."
   ]
  },
  {
   "cell_type": "code",
   "execution_count": 2,
   "metadata": {
    "collapsed": true
   },
   "outputs": [],
   "source": []
  },
  {
   "cell_type": "code",
   "execution_count": 14,
   "metadata": {},
   "outputs": [
    {
     "data": {
      "text/plain": [
       "83"
      ]
     },
     "execution_count": 14,
     "metadata": {},
     "output_type": "execute_result"
    }
   ],
   "source": [
    "import random\n",
    "random.randint(1,100)"
   ]
  },
  {
   "cell_type": "code",
   "execution_count": 22,
   "metadata": {},
   "outputs": [],
   "source": [
    "random.seed(100)\n",
    "testcase =[[random.randint(1,100) for i in range(10)] for j in range(5)]"
   ]
  },
  {
   "cell_type": "code",
   "execution_count": 23,
   "metadata": {},
   "outputs": [
    {
     "data": {
      "text/plain": [
       "[[19, 59, 59, 99, 23, 91, 51, 94, 45, 56],\n",
       " [65, 15, 69, 16, 11, 95, 59, 34, 7, 85],\n",
       " [83, 27, 43, 30, 40, 99, 27, 23, 19, 25],\n",
       " [45, 48, 81, 53, 27, 52, 60, 72, 36, 49],\n",
       " [21, 84, 82, 16, 24, 1, 78, 51, 19, 100]]"
      ]
     },
     "execution_count": 23,
     "metadata": {},
     "output_type": "execute_result"
    }
   ],
   "source": [
    "testcase"
   ]
  },
  {
   "cell_type": "markdown",
   "metadata": {},
   "source": [
    "## 1 Brute Force"
   ]
  },
  {
   "cell_type": "code",
   "execution_count": 55,
   "metadata": {
    "collapsed": true
   },
   "outputs": [],
   "source": [
    "class Solution(object):\n",
    "    def maxArea(self, height):\n",
    "        \"\"\"\n",
    "        :type height: List[int]\n",
    "        :rtype: int\n",
    "        \"\"\"\n",
    "        ans = 0\n",
    "        for i in range(len(height)):\n",
    "            for j in range(len(height)):\n",
    "                if i!=j and abs(i-j) * min(height[i],height[j]) > ans :\n",
    "                    ans = abs(i-j) * min(height[i],height[j])\n",
    "        return ans\n",
    "                \n",
    "                \n",
    "        \n",
    "        \n",
    "        \n",
    "        \n",
    "        "
   ]
  },
  {
   "cell_type": "code",
   "execution_count": 56,
   "metadata": {},
   "outputs": [
    {
     "name": "stdout",
     "output_type": "stream",
     "text": [
      "448\n",
      "585\n",
      "415\n",
      "405\n",
      "672\n"
     ]
    }
   ],
   "source": [
    "for _ in testcase:\n",
    "    trial = Solution()\n",
    "    print(trial.maxArea(_))"
   ]
  },
  {
   "cell_type": "markdown",
   "metadata": {},
   "source": [
    "## 2 Left of Right"
   ]
  },
  {
   "cell_type": "code",
   "execution_count": 68,
   "metadata": {
    "collapsed": true
   },
   "outputs": [],
   "source": [
    "class Solution(object):\n",
    "    def maxArea(self, height):\n",
    "        \"\"\"\n",
    "        :type height: List[int]\n",
    "        :rtype: int\n",
    "        \"\"\"\n",
    "        ans = 0\n",
    "        ## Start from the furthest pairs\n",
    "        \n",
    "        start = 0\n",
    "        end = len(height) - 1\n",
    "        while(end!=start):\n",
    "\n",
    "            if (end - start) * min(height[start],height[end]) > ans:\n",
    "                ans = (end - start) * min(height[start],height[end])    \n",
    "     \n",
    "            if height[start] < height[end]:\n",
    "                start = start + 1\n",
    "            else:\n",
    "                end = end - 1\n",
    "        \n",
    "        \n",
    "        return ans\n",
    "                \n",
    "                \n",
    "        \n",
    "        \n",
    "        \n",
    "        \n",
    "        "
   ]
  },
  {
   "cell_type": "code",
   "execution_count": null,
   "metadata": {},
   "outputs": [],
   "source": []
  },
  {
   "cell_type": "code",
   "execution_count": 69,
   "metadata": {},
   "outputs": [
    {
     "name": "stdout",
     "output_type": "stream",
     "text": [
      "start 0 end 9\n",
      "height[start+1] 19 end-1 56\n",
      "start 1 end 9\n",
      "height[start+1] 59 end-1 56\n",
      "start 1 end 8\n",
      "height[start+1] 59 end-1 45\n",
      "start 1 end 7\n",
      "height[start+1] 59 end-1 94\n",
      "start 2 end 7\n",
      "height[start+1] 59 end-1 94\n",
      "start 3 end 7\n",
      "height[start+1] 99 end-1 94\n",
      "start 3 end 6\n",
      "height[start+1] 99 end-1 51\n",
      "start 3 end 5\n",
      "height[start+1] 99 end-1 91\n",
      "start 3 end 4\n",
      "height[start+1] 99 end-1 23\n",
      "448\n",
      "--------------------\n",
      "start 0 end 9\n",
      "height[start+1] 65 end-1 85\n",
      "start 1 end 9\n",
      "height[start+1] 15 end-1 85\n",
      "start 2 end 9\n",
      "height[start+1] 69 end-1 85\n",
      "start 3 end 9\n",
      "height[start+1] 16 end-1 85\n",
      "start 4 end 9\n",
      "height[start+1] 11 end-1 85\n",
      "start 5 end 9\n",
      "height[start+1] 95 end-1 85\n",
      "start 5 end 8\n",
      "height[start+1] 95 end-1 7\n",
      "start 5 end 7\n",
      "height[start+1] 95 end-1 34\n",
      "start 5 end 6\n",
      "height[start+1] 95 end-1 59\n",
      "585\n",
      "--------------------\n",
      "start 0 end 9\n",
      "height[start+1] 83 end-1 25\n",
      "start 0 end 8\n",
      "height[start+1] 83 end-1 19\n",
      "start 0 end 7\n",
      "height[start+1] 83 end-1 23\n",
      "start 0 end 6\n",
      "height[start+1] 83 end-1 27\n",
      "start 0 end 5\n",
      "height[start+1] 83 end-1 99\n",
      "start 1 end 5\n",
      "height[start+1] 27 end-1 99\n",
      "start 2 end 5\n",
      "height[start+1] 43 end-1 99\n",
      "start 3 end 5\n",
      "height[start+1] 30 end-1 99\n",
      "start 4 end 5\n",
      "height[start+1] 40 end-1 99\n",
      "415\n",
      "--------------------\n",
      "start 0 end 9\n",
      "height[start+1] 45 end-1 49\n",
      "start 1 end 9\n",
      "height[start+1] 48 end-1 49\n",
      "start 2 end 9\n",
      "height[start+1] 81 end-1 49\n",
      "start 2 end 8\n",
      "height[start+1] 81 end-1 36\n",
      "start 2 end 7\n",
      "height[start+1] 81 end-1 72\n",
      "start 2 end 6\n",
      "height[start+1] 81 end-1 60\n",
      "start 2 end 5\n",
      "height[start+1] 81 end-1 52\n",
      "start 2 end 4\n",
      "height[start+1] 81 end-1 27\n",
      "start 2 end 3\n",
      "height[start+1] 81 end-1 53\n",
      "405\n",
      "--------------------\n",
      "start 0 end 9\n",
      "height[start+1] 21 end-1 100\n",
      "start 1 end 9\n",
      "height[start+1] 84 end-1 100\n",
      "start 2 end 9\n",
      "height[start+1] 82 end-1 100\n",
      "start 3 end 9\n",
      "height[start+1] 16 end-1 100\n",
      "start 4 end 9\n",
      "height[start+1] 24 end-1 100\n",
      "start 5 end 9\n",
      "height[start+1] 1 end-1 100\n",
      "start 6 end 9\n",
      "height[start+1] 78 end-1 100\n",
      "start 7 end 9\n",
      "height[start+1] 51 end-1 100\n",
      "start 8 end 9\n",
      "height[start+1] 19 end-1 100\n",
      "672\n",
      "--------------------\n"
     ]
    }
   ],
   "source": [
    "for _ in testcase:\n",
    "    trial = Solution()\n",
    "    print(trial.maxArea(_))\n",
    "    print('-'*20)"
   ]
  },
  {
   "cell_type": "markdown",
   "metadata": {},
   "source": [
    "## Final Solution beat 98%"
   ]
  },
  {
   "cell_type": "code",
   "execution_count": 72,
   "metadata": {
    "collapsed": true
   },
   "outputs": [],
   "source": [
    "## Same logic as the above solution, but assign some variable to reduce repeat calculation\n",
    "\n",
    "class Solution(object):\n",
    "    def maxArea(self, height):\n",
    "        \"\"\"\n",
    "        :type height: List[int]\n",
    "        :rtype: int\n",
    "        \"\"\"\n",
    "        ans = 0\n",
    "        ## Start from the furthest pairs\n",
    "        \n",
    "        start = 0\n",
    "        end = len(height) - 1\n",
    "        winner =0\n",
    "        \n",
    "        while(end!=start):\n",
    "            startheight = height[start]\n",
    "            endheight = height[end]\n",
    "            \n",
    "            if startheight > endheight: ##  the height is determine by the shorter vertical line\n",
    "                winner = endheight\n",
    "            else:\n",
    "                winner = startheight\n",
    "\n",
    "            if (end - start) * winner > ans: ## Area = height * width\n",
    "                ans = (end - start) * winner\n",
    "            if startheight < endheight: ## Key logic reduce to O(n),Always move the shorter line to search,until end = start we know the search is finish\n",
    "                start = start + 1\n",
    "            else:\n",
    "                end = end - 1\n",
    "        \n",
    "        \n",
    "        return ans\n",
    "                \n",
    "                \n",
    "        \n",
    "        \n",
    "        \n",
    "        \n",
    "        "
   ]
  },
  {
   "cell_type": "code",
   "execution_count": null,
   "metadata": {
    "collapsed": true
   },
   "outputs": [],
   "source": []
  },
  {
   "cell_type": "code",
   "execution_count": null,
   "metadata": {
    "collapsed": true
   },
   "outputs": [],
   "source": []
  }
 ],
 "metadata": {
  "kernelspec": {
   "display_name": "Python 3",
   "language": "python",
   "name": "python3"
  },
  "language_info": {
   "codemirror_mode": {
    "name": "ipython",
    "version": 3
   },
   "file_extension": ".py",
   "mimetype": "text/x-python",
   "name": "python",
   "nbconvert_exporter": "python",
   "pygments_lexer": "ipython3",
   "version": "3.5.0"
  }
 },
 "nbformat": 4,
 "nbformat_minor": 2
}
