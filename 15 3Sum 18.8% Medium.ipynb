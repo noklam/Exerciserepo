{
 "cells": [
  {
   "cell_type": "markdown",
   "metadata": {},
   "source": [
    "## 15 3Sum Medium"
   ]
  },
  {
   "cell_type": "markdown",
   "metadata": {},
   "source": [
    "https://leetcode.com/problems/3sum/tabs/description"
   ]
  },
  {
   "cell_type": "markdown",
   "metadata": {},
   "source": [
    "Given an array S of n integers, are there elements a, b, c in S such that a + b + c = 0? Find all unique triplets in the array which gives the sum of zero.\n",
    "\n",
    "Note: The solution set must not contain duplicate triplets.\n",
    "    \n",
    "    For example, given array S = [-1, 0, 1, 2, -1, -4],\n",
    "\n",
    "A solution set is:\n",
    "\n",
    "[\n",
    "  [-1, 0, 1],\n",
    "  [-1, -1, 2]\n",
    "]\n"
   ]
  },
  {
   "cell_type": "markdown",
   "metadata": {},
   "source": [
    "## Solution 1 O(N^2)  find a = -b -c  , lookup is a in (-b-c)"
   ]
  },
  {
   "cell_type": "code",
   "execution_count": 241,
   "metadata": {},
   "outputs": [],
   "source": [
    "class Solution(object):\n",
    "    def twoSum(self, nums, target):\n",
    "        \n",
    "        if len(nums) <= 1:\n",
    "            return []\n",
    "        possible = []\n",
    "        \n",
    "        buff_dict = {}\n",
    "        for i in range(len(nums)):\n",
    "            if nums[i] in buff_dict:\n",
    "                possible.append([nums[buff_dict[nums[i]]], nums[i]])\n",
    "            else:\n",
    "                buff_dict[target - nums[i]] = i\n",
    "        return possible\n",
    "    \n",
    "    \n",
    "    \n",
    "    \n",
    "    \n",
    "    def threeSum(self, nums):\n",
    "        \"\"\"\n",
    "        :type nums: List[int]\n",
    "        :rtype: List[List[int]]\n",
    "        \"\"\"\n",
    "        nums.sort()\n",
    "        ans = []\n",
    "        \n",
    "        \n",
    "        for idx in range(len(nums)):\n",
    "            nums_list = nums[0:idx] + nums[idx+1:]\n",
    "#             print('num_list',nums_list)\n",
    "            temp = self.twoSum(nums_list, -nums[idx])  ## a+b+C = 0 --> b+c = -a \n",
    "#             print('temp',temp)\n",
    "            for _ in temp:\n",
    "                _.append(nums[idx])\n",
    "                ans.append(_)\n",
    "#             print('checking round',idx, ans)\n",
    "#                 \n",
    "#                 ans.append(storage)\n",
    "            \n",
    "          \n",
    "        \n",
    "        \n",
    "        \n",
    "        \n",
    "        \n",
    "        \n",
    "        [i.sort() for i in ans]\n",
    "        ans = [tuple(i) for i in ans]\n",
    "#         print(ans)\n",
    "        return list(set(ans))\n",
    "    \n",
    "        \n",
    "        \n",
    "        \n",
    "        \n",
    "     \n",
    "\n",
    "\n",
    "        "
   ]
  },
  {
   "cell_type": "code",
   "execution_count": null,
   "metadata": {
    "collapsed": true
   },
   "outputs": [],
   "source": []
  },
  {
   "cell_type": "code",
   "execution_count": 242,
   "metadata": {},
   "outputs": [
    {
     "name": "stdout",
     "output_type": "stream",
     "text": [
      "[-4, -1, -1, 0, 1, 2]\n",
      "[(-1, -1, 2), (-1, 0, 1)]\n"
     ]
    }
   ],
   "source": [
    "for _ in test:\n",
    "    trial = Solution()\n",
    "    print(_)\n",
    "    print(trial.threeSum(_))"
   ]
  },
  {
   "cell_type": "code",
   "execution_count": 238,
   "metadata": {},
   "outputs": [
    {
     "name": "stdout",
     "output_type": "stream",
     "text": [
      "[-6, -4, 1, 2, 3, 4, 5, 7, 8, 9]\n",
      "[]\n"
     ]
    }
   ],
   "source": [
    "for _ in test:\n",
    "    trial = Solution()\n",
    "    print(_)\n",
    "    print(trial.twoSum(_,40))"
   ]
  },
  {
   "cell_type": "code",
   "execution_count": 239,
   "metadata": {
    "collapsed": true
   },
   "outputs": [],
   "source": [
    "test= [[-1,0,1,2,-1,-4]]"
   ]
  },
  {
   "cell_type": "code",
   "execution_count": null,
   "metadata": {
    "collapsed": true
   },
   "outputs": [],
   "source": []
  },
  {
   "cell_type": "code",
   "execution_count": null,
   "metadata": {
    "collapsed": true
   },
   "outputs": [],
   "source": []
  },
  {
   "cell_type": "code",
   "execution_count": 10,
   "metadata": {
    "collapsed": true
   },
   "outputs": [],
   "source": [
    "## Solution 2"
   ]
  },
  {
   "cell_type": "code",
   "execution_count": 11,
   "metadata": {
    "collapsed": true
   },
   "outputs": [],
   "source": [
    "def threeSum(self, nums):\n",
    "    res = []\n",
    "    nums.sort()\n",
    "    for i in xrange(len(nums)-2):\n",
    "        if i > 0 and nums[i] == nums[i-1]:\n",
    "            continue\n",
    "        l, r = i+1, len(nums)-1\n",
    "        while l < r:\n",
    "            s = nums[i] + nums[l] + nums[r]\n",
    "            if s < 0:\n",
    "                l +=1 \n",
    "            elif s > 0:\n",
    "                r -= 1\n",
    "            else:\n",
    "                res.append((nums[i], nums[l], nums[r]))\n",
    "                while l < r and nums[l] == nums[l+1]:\n",
    "                    l += 1\n",
    "                while l < r and nums[r] == nums[r-1]:\n",
    "                    r -= 1\n",
    "                l += 1; r -= 1\n",
    "    return res"
   ]
  },
  {
   "cell_type": "code",
   "execution_count": null,
   "metadata": {
    "collapsed": true
   },
   "outputs": [],
   "source": []
  }
 ],
 "metadata": {
  "kernelspec": {
   "display_name": "Python 3",
   "language": "python",
   "name": "python3"
  },
  "language_info": {
   "codemirror_mode": {
    "name": "ipython",
    "version": 3
   },
   "file_extension": ".py",
   "mimetype": "text/x-python",
   "name": "python",
   "nbconvert_exporter": "python",
   "pygments_lexer": "ipython3",
   "version": "3.5.0"
  }
 },
 "nbformat": 4,
 "nbformat_minor": 2
}
