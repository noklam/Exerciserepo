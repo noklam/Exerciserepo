{
 "cells": [
  {
   "cell_type": "markdown",
   "metadata": {},
   "source": [
    "## 3. Longest Substring Without Repeating Characters\n",
    "https://leetcode.com/problems/longest-substring-without-repeating-characters/#/description"
   ]
  },
  {
   "cell_type": "markdown",
   "metadata": {},
   "source": [
    "## 1. Brute Force [Time Limited Exceed, O(n^2)]"
   ]
  },
  {
   "cell_type": "code",
   "execution_count": 109,
   "metadata": {
    "collapsed": true
   },
   "outputs": [],
   "source": [
    "test = [\"abcabcbb\", \"pwwkew\",\"\",\"c\",\"au\"]\n",
    "solution = [\"abc\", \"wke\",\"\",\"c\",\"au\"]"
   ]
  },
  {
   "cell_type": "code",
   "execution_count": 110,
   "metadata": {},
   "outputs": [],
   "source": [
    "class Solution(object):\n",
    "    def lengthOfLongestSubstring(self, s):\n",
    "        \"\"\"\n",
    "        :type s: str\n",
    "        :rtype: int\n",
    "        \"\"\"\n",
    "        ans = ''\n",
    "        if len(s) == 1:\n",
    "            return 1\n",
    "        \n",
    "        for idx in range(len(s)):\n",
    "            temp = s[idx]\n",
    "#             print('loop1',temp)\n",
    "            \n",
    "            for idx2 in range(idx+1 ,len(s)):\n",
    "#                 print('idx2',idx2)\n",
    "#                 print('temp_ans',ans)\n",
    "                if s[idx2]  in temp:\n",
    "                    if len(temp)> len(ans):\n",
    "                        ans = temp\n",
    "                    break\n",
    "                else:\n",
    "                    temp = temp + s[idx2]\n",
    "            if len(temp) >=len(ans):\n",
    "                ans = temp\n",
    "                    \n",
    "            \n",
    "        \n",
    "        \n",
    "        \n",
    "        return len(ans)\n",
    "        \n",
    "        "
   ]
  },
  {
   "cell_type": "code",
   "execution_count": 111,
   "metadata": {},
   "outputs": [
    {
     "name": "stdout",
     "output_type": "stream",
     "text": [
      "My Solution:  3\n",
      "Test: abcabcbb\n",
      "Solution: abc\n",
      "My Solution:  3\n",
      "Test: pwwkew\n",
      "Solution: wke\n",
      "My Solution:  0\n",
      "Test: \n",
      "Solution: \n",
      "My Solution:  1\n",
      "Test: c\n",
      "Solution: c\n",
      "My Solution:  2\n",
      "Test: au\n",
      "Solution: au\n"
     ]
    }
   ],
   "source": [
    "for test1,solution1 in zip(test,solution):\n",
    "    trial = Solution()\n",
    "    print('My Solution: ', trial.lengthOfLongestSubstring(test1))\n",
    "    print('Test:',test1)\n",
    "    print('Solution:',solution1)\n",
    "    "
   ]
  },
  {
   "cell_type": "markdown",
   "metadata": {
    "collapsed": true
   },
   "source": [
    "## 2. Dictionary and window[Time Limited Exceed, O(n)] beat 98%"
   ]
  },
  {
   "cell_type": "code",
   "execution_count": 132,
   "metadata": {},
   "outputs": [],
   "source": [
    "class Solution(object):\n",
    "    def lengthOfLongestSubstring(self, s):\n",
    "        \"\"\"\n",
    "        :type s: str\n",
    "        :rtype: int\n",
    "        \"\"\"\n",
    "        ans = ''\n",
    "        if len(s) == 1:\n",
    "            return 1\n",
    "        used = {}\n",
    "        start_idx = maxlength = 0\n",
    "        \n",
    "        for i in range(len(s)):\n",
    "            if s[i] in used and used[s[i]]>=start_idx:\n",
    "                start_idx = used[s[i]]+1\n",
    "            else:\n",
    "                \n",
    "                maxlength =max(maxlength, i- start_idx + 1)\n",
    "            used[s[i]] = i   \n",
    "        return maxlength\n",
    "    \n",
    "\n",
    "                    \n",
    "            \n",
    "        \n",
    "        \n",
    "        \n",
    "        return len(ans)\n",
    "        \n",
    "        "
   ]
  },
  {
   "cell_type": "code",
   "execution_count": 133,
   "metadata": {},
   "outputs": [
    {
     "name": "stdout",
     "output_type": "stream",
     "text": [
      "My Solution:  3\n",
      "Test: abcabcbb\n",
      "Solution: abc\n",
      "My Solution:  3\n",
      "Test: pwwkew\n",
      "Solution: wke\n",
      "My Solution:  0\n",
      "Test: \n",
      "Solution: \n",
      "My Solution:  1\n",
      "Test: c\n",
      "Solution: c\n",
      "My Solution:  2\n",
      "Test: au\n",
      "Solution: au\n"
     ]
    }
   ],
   "source": [
    "for test1,solution1 in zip(test,solution):\n",
    "    trial = Solution()\n",
    "    print('My Solution: ', trial.lengthOfLongestSubstring(test1))\n",
    "    print('Test:',test1)\n",
    "    print('Solution:',solution1)\n",
    "    "
   ]
  },
  {
   "cell_type": "code",
   "execution_count": null,
   "metadata": {
    "collapsed": true
   },
   "outputs": [],
   "source": []
  },
  {
   "cell_type": "code",
   "execution_count": null,
   "metadata": {
    "collapsed": true
   },
   "outputs": [],
   "source": []
  }
 ],
 "metadata": {
  "kernelspec": {
   "display_name": "Python 3",
   "language": "python",
   "name": "python3"
  },
  "language_info": {
   "codemirror_mode": {
    "name": "ipython",
    "version": 3
   },
   "file_extension": ".py",
   "mimetype": "text/x-python",
   "name": "python",
   "nbconvert_exporter": "python",
   "pygments_lexer": "ipython3",
   "version": "3.5.0"
  }
 },
 "nbformat": 4,
 "nbformat_minor": 2
}
