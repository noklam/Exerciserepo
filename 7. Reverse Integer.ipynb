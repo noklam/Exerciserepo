{
 "cells": [
  {
   "cell_type": "markdown",
   "metadata": {},
   "source": [
    "## 7. Reverse Integer\n",
    "\n",
    "https://leetcode.com/problems/reverse-integer/#/discuss"
   ]
  },
  {
   "cell_type": "markdown",
   "metadata": {},
   "source": [
    "## Trial 1 Use Numpy for int32 int64"
   ]
  },
  {
   "cell_type": "code",
   "execution_count": 1,
   "metadata": {
    "collapsed": true
   },
   "outputs": [],
   "source": [
    "import numpy as np\n",
    "class Solution(object):\n",
    "    def reverse(self, x):\n",
    "        \"\"\"\n",
    "        :type x: int\n",
    "        :rtype: int\n",
    "        \"\"\"\n",
    "        self.x = str(x)\n",
    "        if self.x[0] == '-':\n",
    "            ans = '-' + self.x[:0:-1]\n",
    "        else:\n",
    "            ans = self.x[::-1]\n",
    "        print(ans)\n",
    "        \n",
    "        ## Check overflow\n",
    "        if np.int64(ans) == np.int32(ans):\n",
    "            return int(ans)\n",
    "        else:\n",
    "            return 0 "
   ]
  },
  {
   "cell_type": "code",
   "execution_count": 2,
   "metadata": {},
   "outputs": [
    {
     "name": "stdout",
     "output_type": "stream",
     "text": [
      "-321\n"
     ]
    },
    {
     "data": {
      "text/plain": [
       "-321"
      ]
     },
     "execution_count": 2,
     "metadata": {},
     "output_type": "execute_result"
    }
   ],
   "source": [
    "test = -123\n",
    "temp = Solution()\n",
    "temp.reverse(test)"
   ]
  },
  {
   "cell_type": "markdown",
   "metadata": {},
   "source": [
    "## Trial 2 Calling library is slow for the first time, use hardcode number since python have no default int32"
   ]
  },
  {
   "cell_type": "code",
   "execution_count": null,
   "metadata": {
    "collapsed": true
   },
   "outputs": [],
   "source": [
    "# beat 1.2%"
   ]
  },
  {
   "cell_type": "code",
   "execution_count": 4,
   "metadata": {
    "collapsed": true
   },
   "outputs": [],
   "source": [
    "class Solution(object):\n",
    "    def reverse(self, x):\n",
    "        \"\"\"\n",
    "        :type x: int\n",
    "        :rtype: int\n",
    "        \"\"\"\n",
    "        self.x = str(x)\n",
    "        if self.x[0] == '-':\n",
    "            ans = '-' + self.x[:0:-1]\n",
    "        else:\n",
    "            ans = self.x[::-1]\n",
    "        print(ans)\n",
    "        \n",
    "        ## Check overflow\n",
    "        ans= int(ans)\n",
    "        if ans>2147483648 or ans<-2147483648: # 2^31,2^-31\n",
    "            return 0 \n",
    "        else:\n",
    "            return ans\n"
   ]
  },
  {
   "cell_type": "code",
   "execution_count": 3,
   "metadata": {
    "collapsed": true
   },
   "outputs": [],
   "source": [
    "# beat 58 %"
   ]
  }
 ],
 "metadata": {
  "kernelspec": {
   "display_name": "Python 3",
   "language": "python",
   "name": "python3"
  },
  "language_info": {
   "codemirror_mode": {
    "name": "ipython",
    "version": 3
   },
   "file_extension": ".py",
   "mimetype": "text/x-python",
   "name": "python",
   "nbconvert_exporter": "python",
   "pygments_lexer": "ipython3",
   "version": "3.5.0"
  }
 },
 "nbformat": 4,
 "nbformat_minor": 2
}
